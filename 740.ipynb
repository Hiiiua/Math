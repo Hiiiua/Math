{
 "cells": [
  {
   "cell_type": "code",
   "execution_count": 1,
   "metadata": {},
   "outputs": [
    {
     "ename": "ERROR",
     "evalue": "Error in library(faraway): there is no package called 'faraway'\n",
     "output_type": "error",
     "traceback": [
      "Error in library(faraway): there is no package called 'faraway'\nTraceback:\n",
      "1. library(faraway)"
     ]
    }
   ],
   "source": [
    "library(faraway)"
   ]
  }
 ],
 "metadata": {
  "kernelspec": {
   "display_name": "R",
   "language": "R",
   "name": "ir"
  },
  "language_info": {
   "codemirror_mode": "r",
   "file_extension": ".r",
   "mimetype": "text/x-r-source",
   "name": "R",
   "pygments_lexer": "r",
   "version": "3.6.1"
  }
 },
 "nbformat": 4,
 "nbformat_minor": 2
}
