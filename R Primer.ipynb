{
 "cells": [
  {
   "cell_type": "code",
   "execution_count": 5,
   "metadata": {},
   "outputs": [
    {
     "data": {
      "image/png": "[encoded data removed]",
      "text/plain": [
       "Plot with title \"Circumference vs Radius\""
      ]
     },
     "metadata": {},
     "output_type": "display_data"
    }
   ],
   "source": [
    "par(mfrow=c(2,2)) #subplot\n",
    "r <-seq(,8,.1); Vol<-(4/3)*pi*r^3; plot(Vol~r)\n",
    "title('Simple plot')\n",
    "\n",
    "plot(Vol~r,xlab='Radius',ylab = 'Volume')\n",
    "title('Volume vs Radius')\n",
    "\n",
    "plot(Vol~r, xlab='Radius',ylab = 'Volume' )\n",
    "lines(Vol~r)\n",
    "title('Curve')\n",
    "\n",
    "circum=2*pi*r\n",
    "plot(circum~r,xlab='Radius',ylab = 'Circumference')\n",
    "lines(circum~r);title('Circumference vs Radius')"
   ]
  },
  {
   "cell_type": "markdown",
   "metadata": {},
   "source": [
    "## Probability Distributions\n",
    "> mu, sig $\\rightarrow \\mu, \\sigma^2$"
   ]
  },
  {
   "cell_type": "markdown",
   "metadata": {},
   "source": [
    "eg. 成年男性normally distributed with mean 70, std 4 inches."
   ]
  },
  {
   "cell_type": "markdown",
   "metadata": {},
   "source": [
    "##### 超过6foot的prob. (1 feet = 12 inches)\n",
    "pnorm(x, mu, sig) $\\rightarrow  P(X\\leq x)$ "
   ]
  },
  {
   "cell_type": "code",
   "execution_count": 6,
   "metadata": {},
   "outputs": [
    {
     "data": {
      "text/html": [
       "0.308537538725987"
      ],
      "text/latex": [
       "0.308537538725987"
      ],
      "text/markdown": [
       "0.308537538725987"
      ],
      "text/plain": [
       "[1] 0.3085375"
      ]
     },
     "metadata": {},
     "output_type": "display_data"
    }
   ],
   "source": [
    "1-pnorm(72,70,4)"
   ]
  },
  {
   "cell_type": "markdown",
   "metadata": {},
   "source": [
    "##### upper 10th percentile in ht.\n",
    "qnorm(p, mu, sig) $\\rightarrow  P(X\\leq q)=p$ "
   ]
  },
  {
   "cell_type": "code",
   "execution_count": 7,
   "metadata": {},
   "outputs": [
    {
     "data": {
      "text/html": [
       "75.1262062621784"
      ],
      "text/latex": [
       "75.1262062621784"
      ],
      "text/markdown": [
       "75.1262062621784"
      ],
      "text/plain": [
       "[1] 75.12621"
      ]
     },
     "metadata": {},
     "output_type": "display_data"
    }
   ],
   "source": [
    "qnorm(0.9, 70, 4)"
   ]
  },
  {
   "cell_type": "markdown",
   "metadata": {},
   "source": [
    "##### Value of densiy at 72\n",
    "dnorm(x, mu, sis) $\\rightarrow  f(x)$, where f is the pdf of X"
   ]
  },
  {
   "cell_type": "code",
   "execution_count": 8,
   "metadata": {},
   "outputs": [
    {
     "data": {
      "text/html": [
       "0.0880163316910749"
      ],
      "text/latex": [
       "0.0880163316910749"
      ],
      "text/markdown": [
       "0.0880163316910749"
      ],
      "text/plain": [
       "[1] 0.08801633"
      ]
     },
     "metadata": {},
     "output_type": "display_data"
    }
   ],
   "source": [
    "dnorm(72, 70, 4)"
   ]
  },
  {
   "cell_type": "markdown",
   "metadata": {},
   "source": [
    "##### Sample of size 6 on X\n",
    "rnorm(n, mu, sig)"
   ]
  },
  {
   "cell_type": "code",
   "execution_count": 11,
   "metadata": {},
   "outputs": [
    {
     "data": {
      "text/html": [
       "<ol class=list-inline>\n",
       "\t<li>72.2077258462729</li>\n",
       "\t<li>62.5317609623233</li>\n",
       "\t<li>69.4113221436308</li>\n",
       "\t<li>69.4903116743266</li>\n",
       "\t<li>65.9723825781919</li>\n",
       "\t<li>71.1575043298669</li>\n",
       "</ol>\n"
      ],
      "text/latex": [
       "\\begin{enumerate*}\n",
       "\\item 72.2077258462729\n",
       "\\item 62.5317609623233\n",
       "\\item 69.4113221436308\n",
       "\\item 69.4903116743266\n",
       "\\item 65.9723825781919\n",
       "\\item 71.1575043298669\n",
       "\\end{enumerate*}\n"
      ],
      "text/markdown": [
       "1. 72.2077258462729\n",
       "2. 62.5317609623233\n",
       "3. 69.4113221436308\n",
       "4. 69.4903116743266\n",
       "5. 65.9723825781919\n",
       "6. 71.1575043298669\n",
       "\n",
       "\n"
      ],
      "text/plain": [
       "[1] 72.20773 62.53176 69.41132 69.49031 65.97238 71.15750"
      ]
     },
     "metadata": {},
     "output_type": "display_data"
    }
   ],
   "source": [
    "rnorm(6,70,4)"
   ]
  },
  {
   "cell_type": "markdown",
   "metadata": {},
   "source": [
    "## R Functions"
   ]
  },
  {
   "cell_type": "markdown",
   "metadata": {},
   "source": [
    "多次实验，每次测量并记录$x_n$，利用公式$\\bar{x}_{n+1}=\\frac{n}{n+1}\\bar{x}_n+\\frac{1}{n+1}x_{n+1}$\n",
    "求sample mean"
   ]
  },
  {
   "cell_type": "code",
   "execution_count": 20,
   "metadata": {},
   "outputs": [
    {
     "data": {
      "text/html": [
       "<ol class=list-inline>\n",
       "\t<li>3</li>\n",
       "\t<li>5</li>\n",
       "\t<li>12</li>\n",
       "\t<li>4</li>\n",
       "</ol>\n"
      ],
      "text/latex": [
       "\\begin{enumerate*}\n",
       "\\item 3\n",
       "\\item 5\n",
       "\\item 12\n",
       "\\item 4\n",
       "\\end{enumerate*}\n"
      ],
      "text/markdown": [
       "1. 3\n",
       "2. 5\n",
       "3. 12\n",
       "4. 4\n",
       "\n",
       "\n"
      ],
      "text/plain": [
       "[1]  3  5 12  4"
      ]
     },
     "metadata": {},
     "output_type": "display_data"
    },
    {
     "data": {
      "text/html": [
       "6"
      ],
      "text/latex": [
       "6"
      ],
      "text/markdown": [
       "6"
      ],
      "text/plain": [
       "[1] 6"
      ]
     },
     "metadata": {},
     "output_type": "display_data"
    },
    {
     "data": {
      "text/html": [
       "10.8"
      ],
      "text/latex": [
       "10.8"
      ],
      "text/markdown": [
       "10.8"
      ],
      "text/plain": [
       "[1] 10.8"
      ]
     },
     "metadata": {},
     "output_type": "display_data"
    }
   ],
   "source": [
    "# source(\"mnupdate.R\") #如果存了函数，调用用source\n",
    "mnupdate <- function(n,xbarn,xnp1){\n",
    "    mnupdate<-(n/(n+1))*xbarn + xnp1/(n+1)\n",
    "    return(mnupdate)\n",
    "}\n",
    "\n",
    "x = c(3,5,12,4); n=4; xbarn = mean(x);\n",
    "x;xbarn\n",
    "\n",
    "xp1=30\n",
    "mnupdate(n,xbarn,xp1)"
   ]
  },
  {
   "cell_type": "markdown",
   "metadata": {},
   "source": [
    "### Loops\n",
    "输出平方，立方，平方根，立方根的表"
   ]
  },
  {
   "cell_type": "code",
   "execution_count": 24,
   "metadata": {},
   "outputs": [
    {
     "data": {
      "text/html": [
       "<table>\n",
       "<tbody>\n",
       "\t<tr><td> 1      </td><td>  1     </td><td>   1    </td><td>1.000000</td><td>1.000000</td></tr>\n",
       "\t<tr><td> 2      </td><td>  4     </td><td>   8    </td><td>1.414214</td><td>1.259921</td></tr>\n",
       "\t<tr><td> 3      </td><td>  9     </td><td>  27    </td><td>1.732051</td><td>1.442250</td></tr>\n",
       "\t<tr><td> 4      </td><td> 16     </td><td>  64    </td><td>2.000000</td><td>1.587401</td></tr>\n",
       "\t<tr><td> 5      </td><td> 25     </td><td> 125    </td><td>2.236068</td><td>1.709976</td></tr>\n",
       "\t<tr><td> 6      </td><td> 36     </td><td> 216    </td><td>2.449490</td><td>1.817121</td></tr>\n",
       "\t<tr><td> 7      </td><td> 49     </td><td> 343    </td><td>2.645751</td><td>1.912931</td></tr>\n",
       "\t<tr><td> 8      </td><td> 64     </td><td> 512    </td><td>2.828427</td><td>2.000000</td></tr>\n",
       "\t<tr><td> 9      </td><td> 81     </td><td> 729    </td><td>3.000000</td><td>2.080084</td></tr>\n",
       "\t<tr><td>10      </td><td>100     </td><td>1000    </td><td>3.162278</td><td>2.154435</td></tr>\n",
       "</tbody>\n",
       "</table>\n"
      ],
      "text/latex": [
       "\\begin{tabular}{lllll}\n",
       "\t  1       &   1      &    1     & 1.000000 & 1.000000\\\\\n",
       "\t  2       &   4      &    8     & 1.414214 & 1.259921\\\\\n",
       "\t  3       &   9      &   27     & 1.732051 & 1.442250\\\\\n",
       "\t  4       &  16      &   64     & 2.000000 & 1.587401\\\\\n",
       "\t  5       &  25      &  125     & 2.236068 & 1.709976\\\\\n",
       "\t  6       &  36      &  216     & 2.449490 & 1.817121\\\\\n",
       "\t  7       &  49      &  343     & 2.645751 & 1.912931\\\\\n",
       "\t  8       &  64      &  512     & 2.828427 & 2.000000\\\\\n",
       "\t  9       &  81      &  729     & 3.000000 & 2.080084\\\\\n",
       "\t 10       & 100      & 1000     & 3.162278 & 2.154435\\\\\n",
       "\\end{tabular}\n"
      ],
      "text/markdown": [
       "\n",
       "|  1       |   1      |    1     | 1.000000 | 1.000000 |\n",
       "|  2       |   4      |    8     | 1.414214 | 1.259921 |\n",
       "|  3       |   9      |   27     | 1.732051 | 1.442250 |\n",
       "|  4       |  16      |   64     | 2.000000 | 1.587401 |\n",
       "|  5       |  25      |  125     | 2.236068 | 1.709976 |\n",
       "|  6       |  36      |  216     | 2.449490 | 1.817121 |\n",
       "|  7       |  49      |  343     | 2.645751 | 1.912931 |\n",
       "|  8       |  64      |  512     | 2.828427 | 2.000000 |\n",
       "|  9       |  81      |  729     | 3.000000 | 2.080084 |\n",
       "| 10       | 100      | 1000     | 3.162278 | 2.154435 |\n",
       "\n"
      ],
      "text/plain": [
       "      [,1] [,2] [,3] [,4]     [,5]    \n",
       " [1,]  1     1     1 1.000000 1.000000\n",
       " [2,]  2     4     8 1.414214 1.259921\n",
       " [3,]  3     9    27 1.732051 1.442250\n",
       " [4,]  4    16    64 2.000000 1.587401\n",
       " [5,]  5    25   125 2.236068 1.709976\n",
       " [6,]  6    36   216 2.449490 1.817121\n",
       " [7,]  7    49   343 2.645751 1.912931\n",
       " [8,]  8    64   512 2.828427 2.000000\n",
       " [9,]  9    81   729 3.000000 2.080084\n",
       "[10,] 10   100  1000 3.162278 2.154435"
      ]
     },
     "metadata": {},
     "output_type": "display_data"
    }
   ],
   "source": [
    "tab <- c()\n",
    "for(i in 1:10){\n",
    "    tab<-rbind(tab,c(i,i^2,i^3,i^(1/2),i^(1/3)))\n",
    "}\n",
    "tab"
   ]
  },
  {
   "cell_type": "code",
   "execution_count": 33,
   "metadata": {},
   "outputs": [
    {
     "data": {
      "text/html": [
       "<table>\n",
       "<tbody>\n",
       "\t<tr><td> 1</td></tr>\n",
       "\t<tr><td> 2</td></tr>\n",
       "\t<tr><td> 3</td></tr>\n",
       "\t<tr><td> 4</td></tr>\n",
       "\t<tr><td> 5</td></tr>\n",
       "\t<tr><td> 6</td></tr>\n",
       "\t<tr><td> 7</td></tr>\n",
       "\t<tr><td> 8</td></tr>\n",
       "\t<tr><td> 9</td></tr>\n",
       "\t<tr><td>10</td></tr>\n",
       "</tbody>\n",
       "</table>\n"
      ],
      "text/latex": [
       "\\begin{tabular}{l}\n",
       "\t  1\\\\\n",
       "\t  2\\\\\n",
       "\t  3\\\\\n",
       "\t  4\\\\\n",
       "\t  5\\\\\n",
       "\t  6\\\\\n",
       "\t  7\\\\\n",
       "\t  8\\\\\n",
       "\t  9\\\\\n",
       "\t 10\\\\\n",
       "\\end{tabular}\n"
      ],
      "text/markdown": [
       "\n",
       "|  1 |\n",
       "|  2 |\n",
       "|  3 |\n",
       "|  4 |\n",
       "|  5 |\n",
       "|  6 |\n",
       "|  7 |\n",
       "|  8 |\n",
       "|  9 |\n",
       "| 10 |\n",
       "\n"
      ],
      "text/plain": [
       "      [,1]\n",
       " [1,]  1  \n",
       " [2,]  2  \n",
       " [3,]  3  \n",
       " [4,]  4  \n",
       " [5,]  5  \n",
       " [6,]  6  \n",
       " [7,]  7  \n",
       " [8,]  8  \n",
       " [9,]  9  \n",
       "[10,] 10  "
      ]
     },
     "metadata": {},
     "output_type": "display_data"
    }
   ],
   "source": [
    "tab <-c() #初始化table\n",
    "for(i in 1:10){\n",
    "    tab<-rbind(tab, c(i)) #行迭代并且联合所有遍历值进行行拼接\n",
    "}\n",
    "tab"
   ]
  },
  {
   "cell_type": "markdown",
   "metadata": {},
   "source": []
  },
  {
   "cell_type": "code",
   "execution_count": null,
   "metadata": {},
   "outputs": [],
   "source": []
  }
 ],
 "metadata": {
  "kernelspec": {
   "display_name": "R",
   "language": "R",
   "name": "ir"
  },
  "language_info": {
   "codemirror_mode": "r",
   "file_extension": ".r",
   "mimetype": "text/x-r-source",
   "name": "R",
   "pygments_lexer": "r",
   "version": "3.6.1"
  }
 },
 "nbformat": 4,
 "nbformat_minor": 2
}
